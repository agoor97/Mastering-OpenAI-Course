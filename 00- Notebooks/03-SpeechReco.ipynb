{
 "cells": [
  {
   "cell_type": "code",
   "execution_count": 1,
   "metadata": {},
   "outputs": [],
   "source": [
    "## Import Libraries, and read the key-token\n",
    "import openai\n",
    "import os\n",
    "from dotenv import load_dotenv\n",
    "import requests\n",
    "import tempfile\n",
    "\n",
    "## Load the Key token\n",
    "_ = load_dotenv()\n",
    "key_token = os.getenv('OpenAI_KEY_TOKEN')\n",
    "\n",
    "## Assign that key_token to api_key of OpenAI\n",
    "openai.api_key = key_token"
   ]
  },
  {
   "attachments": {},
   "cell_type": "markdown",
   "metadata": {},
   "source": [
    "### `Whisper`\n",
    "* Whisper is an automatic speech recognition (ASR) system trained on 680,000 hours of multilingual and multitask supervised data collected from the web. "
   ]
  },
  {
   "cell_type": "code",
   "execution_count": 11,
   "metadata": {},
   "outputs": [
    {
     "name": "stdout",
     "output_type": "stream",
     "text": [
      "Four score and seven years ago, our fathers brought forth on this continent a new nation, conceived in liberty and dedicated to the proposition that all men are created equal.\n"
     ]
    }
   ],
   "source": [
    "## The Audio Transcription (English)\n",
    "audio_path = os.path.join('audio_files', 'gettysburg10.wav')\n",
    "\n",
    "with open(audio_path, 'rb') as file:\n",
    "    transcript = openai.Audio.transcribe('whisper-1', file)\n",
    "    print(transcript['text'])"
   ]
  },
  {
   "cell_type": "code",
   "execution_count": 10,
   "metadata": {},
   "outputs": [
    {
     "name": "stdout",
     "output_type": "stream",
     "text": [
      "Hallo? Toll Papa! Echt toll hier! Bei den Löwen. Nur dieser Löwe hier, dein Abeku, ist nicht da. Schläft wahrscheinlich innen, oder? Heute nicht. Weil heute... Der Löwe ist nämlich nicht innen, sondern... gar nicht da. Sondern? Beim Arzt. Einmal im Jahr wird er untersucht. Geimpft, so was. Verstehe. Aber jetzt sag doch. Wie war's in der Schule? Gut. Das Pflaster da an deiner Stirn, woher? Auf dem Schulhof? Wirklich, Papa? Egal. Nein, nicht egal. Die haben so Sachen über dich gesagt.\n"
     ]
    }
   ],
   "source": [
    "## The Audio Transcription (German)\n",
    "audio_path = os.path.join('audio_files', 'german.mp3')\n",
    "\n",
    "with open(audio_path, 'rb') as file:   ## The context automatically close the file\n",
    "    transcript = openai.Audio.transcribe('whisper-1', file)\n",
    "    print(transcript['text'])"
   ]
  },
  {
   "cell_type": "code",
   "execution_count": 9,
   "metadata": {},
   "outputs": [
    {
     "name": "stdout",
     "output_type": "stream",
     "text": [
      "تبعوني وهذا الذي تصنعون خروج وانتقام وعصياف إذا كنا عندك فلا يبقى للإسلام حكم ولا جماعة ولا نظام ما هو الذي بعث محمدا بالحق بل تؤدون الزكاة وتسوقون الصدقة كما صنعتم مع رسول الله لا ينقص منها شيء رأيتم؟ أعوذ بالله من الحرم\n"
     ]
    }
   ],
   "source": [
    "## The Audio Transcription (Arabic)\n",
    "audio_path = os.path.join('audio_files', 'arabic.mp3')\n",
    "\n",
    "with open(audio_path, 'rb') as file:   ## The context automatically close the file\n",
    "    transcript = openai.Audio.transcribe('whisper-1', file)\n",
    "    print(transcript['text'])"
   ]
  },
  {
   "attachments": {},
   "cell_type": "markdown",
   "metadata": {},
   "source": [
    "-------"
   ]
  },
  {
   "cell_type": "code",
   "execution_count": null,
   "metadata": {},
   "outputs": [],
   "source": []
  }
 ],
 "metadata": {
  "kernelspec": {
   "display_name": "openai",
   "language": "python",
   "name": "python3"
  },
  "language_info": {
   "codemirror_mode": {
    "name": "ipython",
    "version": 3
   },
   "file_extension": ".py",
   "mimetype": "text/x-python",
   "name": "python",
   "nbconvert_exporter": "python",
   "pygments_lexer": "ipython3",
   "version": "3.10.9"
  },
  "orig_nbformat": 4
 },
 "nbformat": 4,
 "nbformat_minor": 2
}
