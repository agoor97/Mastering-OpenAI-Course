{
 "cells": [
  {
   "cell_type": "code",
   "execution_count": 11,
   "metadata": {},
   "outputs": [],
   "source": [
    "## Import Libraries, and read the key-token\n",
    "import openai\n",
    "import os\n",
    "from dotenv import load_dotenv\n",
    "import requests\n",
    "import tempfile\n",
    "\n",
    "## Load the Key token\n",
    "_ = load_dotenv()\n",
    "key_token = os.getenv('OpenAI_KEY_TOKEN')\n",
    "\n",
    "## Assign that key_token to api_key of OpenAI\n",
    "openai.api_key = key_token"
   ]
  },
  {
   "attachments": {},
   "cell_type": "markdown",
   "metadata": {},
   "source": [
    "### `Dall-E`\n",
    "* DALL-E is an artificial intelligence model developed by OpenAI. It is named after the artist Salvador Dalí and the Pixar character WALL-E. \n",
    "* DALL-E is based on the GPT-3 architecture and is specifically designed for generating images from textual descriptions."
   ]
  },
  {
   "cell_type": "code",
   "execution_count": 14,
   "metadata": {},
   "outputs": [],
   "source": [
    "## prompt for image generation.\n",
    "user_prompt = 'A beautifual garden with a lot of flowers, and a happy man is smelling a flower'\n",
    "\n",
    "response = openai.Image.create(\n",
    "                prompt=user_prompt,\n",
    "                n=1,    ## Number of returned images\n",
    "                size='1024x1024'    ## 256x256 or 512x512 or 1024x1024, you are charged according to size of each image.\n",
    "            )\n",
    "imag_url = response['data'][0]['url']  ## Getting URL only"
   ]
  },
  {
   "cell_type": "code",
   "execution_count": 15,
   "metadata": {},
   "outputs": [],
   "source": [
    "## Download to disk with temporary filename\n",
    "request_res = requests.get(imag_url)\n",
    "\n",
    "## Check response and save the image to (gen_images) folder\n",
    "if request_res.status_code == 200:\n",
    "\n",
    "    img_temp_name = os.path.basename(tempfile.NamedTemporaryFile(suffix=\".png\").name)\n",
    "    ## Set the path where you want to save the image\n",
    "    image_path_local = os.path.join('gen_images', img_temp_name)\n",
    "    \n",
    "    ## Write the image to the save path\n",
    "    with open(image_path_local, \"wb\") as file:\n",
    "        file.write(request_res.content)\n",
    "else:\n",
    "    print('There is an error in getting the image link.')"
   ]
  },
  {
   "attachments": {},
   "cell_type": "markdown",
   "metadata": {},
   "source": [
    "### `Compine Chat Completion API with Image Generation API`\n",
    "* Using gpt-3.5-turbo to refine the prompt and translate it, making some prompt engieering, to boost the performnce of the output image."
   ]
  },
  {
   "cell_type": "code",
   "execution_count": 19,
   "metadata": {},
   "outputs": [
    {
     "name": "stdout",
     "output_type": "stream",
     "text": [
      "\"A park filled with flowers and roses, featuring a joyful man smelling the blossoms.\"\n",
      "********************************************************************************\n"
     ]
    }
   ],
   "source": [
    "\n",
    "## In arabic, we need to translate and prepare a good prompt\n",
    "user_prompt = 'حديقة مملوءة بالزهور والورود ويوجد بها رجل سعيد يشم الزهور'\n",
    "\n",
    "## system_prompt for gpt-3.5-turbo\n",
    "system_prompt = ''''You are an AI assistant, Your task is to regenerate the following text to be a prompt for an image generation model.\n",
    "                        Instructions:\n",
    "                            1. Analyze the text and refine it to ensure clarity, specificity, and accuracy.\n",
    "                            2. Create a prompt in ENGLISH Langauge that best represent the text meaning.\n",
    "                            3. If the text is not in English, TRANSLATE it into English.\n",
    "                            4. Retrun the Result in a list containing only the final prompt in ENGLISH. \n",
    "                    '''\n",
    "\n",
    "messages = [ \n",
    "    {'role': 'system', 'content': system_prompt}, \n",
    "    {'role': 'user', 'content': user_prompt}\n",
    "        ]\n",
    "## Using ChatGPT\n",
    "response = openai.ChatCompletion.create(\n",
    "              model='gpt-3.5-turbo',           \n",
    "              messages=messages,\n",
    "              temperature=0.9,  \n",
    "              max_tokens=1000,  \n",
    "                )\n",
    "\n",
    "refined_prompt = response['choices'][0]['message']['content']  ## That what will Dall-E work on.\n",
    "print(refined_prompt)\n",
    "print('****'*20)\n",
    "\n",
    "## Using Dall-E\n",
    "response = openai.Image.create(\n",
    "                prompt=refined_prompt,   ## The refined_prompt aftre translating and preparing.\n",
    "                n=1,    \n",
    "                size='1024x1024'    \n",
    "            )\n",
    "imag_url = response['data'][0]['url']  ## Getting URL only\n",
    "\n",
    "## Download to disk with temporary filename\n",
    "request_res = requests.get(imag_url)\n",
    "\n",
    "## Check response and save the image to (gen_images) folder\n",
    "if request_res.status_code == 200:\n",
    "\n",
    "    img_temp_name = os.path.basename(tempfile.NamedTemporaryFile(suffix=\".png\").name)\n",
    "    ## Set the path where you want to save the image\n",
    "    image_path_local = os.path.join('gen_images', img_temp_name)\n",
    "    \n",
    "    ## Write the image to the save path\n",
    "    with open(image_path_local, \"wb\") as file:\n",
    "        file.write(request_res.content)\n",
    "else:\n",
    "    print('There is an error in getting the image link.')"
   ]
  },
  {
   "attachments": {},
   "cell_type": "markdown",
   "metadata": {},
   "source": [
    "### `Create variations using DALL-E`"
   ]
  },
  {
   "cell_type": "code",
   "execution_count": 26,
   "metadata": {},
   "outputs": [],
   "source": [
    "## The image must be in png\n",
    "img_path = os.path.join('gen_images', 'tmprfizi14d.png')\n",
    "img = open(img_path, 'rb')  ## read it in binary mode\n",
    "\n",
    "response = openai.Image.create_variation(\n",
    "            image=img,\n",
    "            n=1,\n",
    "            size='1024x1024'\n",
    "        )\n",
    "\n",
    "imag_url = response['data'][0]['url']  ## Getting URL only\n",
    "\n",
    "## Download to disk with temporary filename\n",
    "request_res = requests.get(imag_url)\n",
    "\n",
    "## Check response and save the image to (gen_images) folder\n",
    "if request_res.status_code == 200:\n",
    "\n",
    "    img_temp_name = os.path.basename(tempfile.NamedTemporaryFile(suffix=\".png\").name)\n",
    "    ## Set the path where you want to save the image\n",
    "    image_path_local = os.path.join('gen_images', img_temp_name)\n",
    "    \n",
    "    ## Write the image to the save path\n",
    "    with open(image_path_local, \"wb\") as file:\n",
    "        file.write(request_res.content)\n",
    "else:\n",
    "    print('There is an error in getting the image link.')"
   ]
  },
  {
   "cell_type": "code",
   "execution_count": null,
   "metadata": {},
   "outputs": [],
   "source": []
  }
 ],
 "metadata": {
  "kernelspec": {
   "display_name": "openai",
   "language": "python",
   "name": "python3"
  },
  "language_info": {
   "codemirror_mode": {
    "name": "ipython",
    "version": 3
   },
   "file_extension": ".py",
   "mimetype": "text/x-python",
   "name": "python",
   "nbconvert_exporter": "python",
   "pygments_lexer": "ipython3",
   "version": "3.10.9"
  },
  "orig_nbformat": 4
 },
 "nbformat": 4,
 "nbformat_minor": 2
}
