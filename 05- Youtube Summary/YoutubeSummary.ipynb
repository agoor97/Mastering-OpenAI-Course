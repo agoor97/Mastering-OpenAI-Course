{
 "cells": [
  {
   "cell_type": "code",
   "execution_count": 1,
   "metadata": {},
   "outputs": [],
   "source": [
    "## Import Libraries, and read the key-token\n",
    "import openai\n",
    "import os\n",
    "from dotenv import load_dotenv\n",
    "import os\n",
    "from pytube import YouTube\n",
    "\n",
    "## Load the Key token\n",
    "_ = load_dotenv()\n",
    "key_token = os.getenv('OpenAI_KEY_TOKEN')\n",
    "\n",
    "## Assign that key_token to api_key of OpenAI\n",
    "openai.api_key = key_token"
   ]
  },
  {
   "cell_type": "code",
   "execution_count": 2,
   "metadata": {},
   "outputs": [],
   "source": [
    "os.makedirs('youtube_audio_vids', exist_ok=True)"
   ]
  },
  {
   "cell_type": "code",
   "execution_count": 3,
   "metadata": {},
   "outputs": [
    {
     "name": "stdout",
     "output_type": "stream",
     "text": [
      "Title: Intro. to Playlist (Mastering Machine Learning) | Mohammed Agoor\n",
      "Views: 178\n",
      "Length: 453\n",
      "Rating: None\n",
      "Thumbnail: https://i.ytimg.com/vi/D-gawBkxkuE/hq720.jpg\n"
     ]
    }
   ],
   "source": [
    "## My Youtube Video Link \n",
    "yt_vid = YouTube(url='https://www.youtube.com/watch?v=D-gawBkxkuE&list=PLPL82Je6IgwhHI66lyt9hnKlocs2tHInX&index=1')\n",
    "print(f'Title: {yt_vid.title}')\n",
    "print(f'Views: {yt_vid.views}')\n",
    "print(f'Length: {yt_vid.length}')\n",
    "print(f'Rating: {yt_vid.rating}')\n",
    "print(f'Thumbnail: {yt_vid.thumbnail_url}')"
   ]
  },
  {
   "cell_type": "code",
   "execution_count": 18,
   "metadata": {},
   "outputs": [
    {
     "name": "stdout",
     "output_type": "stream",
     "text": [
      "Downloading video ...\n",
      "Done downloading ...\n"
     ]
    }
   ],
   "source": [
    "## Downloading only the Audio\n",
    "audio_file = yt_vid.streams.filter(only_audio=True).first()\n",
    "print('Downloading video ...')\n",
    "output_audio_path = audio_file.download(output_path=os.path.join(os.getcwd(), 'youtube_audio_vids'))\n",
    "print('Done downloading ...')"
   ]
  },
  {
   "cell_type": "code",
   "execution_count": 19,
   "metadata": {},
   "outputs": [
    {
     "data": {
      "text/plain": [
       "['Intro to Playlist (Mastering Machine Learning)  Mohammed Agoor.mp4']"
      ]
     },
     "execution_count": 19,
     "metadata": {},
     "output_type": "execute_result"
    }
   ],
   "source": [
    "os.listdir('youtube_audio_vids')"
   ]
  },
  {
   "cell_type": "code",
   "execution_count": 20,
   "metadata": {},
   "outputs": [],
   "source": [
    "## rename the file\n",
    "basename = os.path.basename(output_audio_path)\n",
    "name, extension = os.path.splitext(basename)\n",
    "name = name.lower().replace(' ', '-')\n",
    "audio_new = f'{name}.mp3'\n",
    "# audio_new_path = \n",
    "os.rename(output_audio_path, os.path.join(os.getcwd(), 'youtube_audio_vids', audio_new))"
   ]
  },
  {
   "cell_type": "code",
   "execution_count": 22,
   "metadata": {},
   "outputs": [
    {
     "data": {
      "text/plain": [
       "'c:\\\\Users\\\\moham\\\\Desktop\\\\OpenAI Course\\\\05- Youtube Summary\\\\youtube_audio_vids\\\\intro-to-playlist-(mastering-machine-learning)--mohammed-agoor.mp3'"
      ]
     },
     "execution_count": 22,
     "metadata": {},
     "output_type": "execute_result"
    }
   ],
   "source": [
    "os.path.join(os.getcwd(), 'youtube_audio_vids', audio_new)"
   ]
  },
  {
   "cell_type": "code",
   "execution_count": 23,
   "metadata": {},
   "outputs": [
    {
     "name": "stdout",
     "output_type": "stream",
     "text": [
      "بسم الله الرحمن الرحيم الحمد لله رب العالمين والصلاة والسلام على رسول الله اللهم صلي على سيدنا محمد وعلى أزواجه وزرياته هتكلم بشيء من التفصيل عن البلايليست دي تفيها ايه؟ اول حاجة عنوان البلايليست ماسترنج ماشيل لرنينج يوزنج بايسون ان ارابك اول حاجة دي اتكلم هنا عن الماشيل لرنينج مش بتكلم عن الاي ككل انا بتكلم عن فيلد واحد من الاي هو الماشيل لرنينج الماشيل لرنينج هو المدخل للاي وماشيل لرنينج انا بتكلم هنا بالتفصيل الممل لمستوى اعلى من السوق عاوزه على اقل في الوقت انا بتكلم فيه تلواتي انا بتكلم شهر ستة 2023 فالموجود في البلايليست دي اكتر من السوق عاوزه في مجال الماشيل لرنينج الله هناخدك من بدائيات البدائيات لحد ما تبقى تصل الى مستوى عالي في الماشيل لرنينج مطلوب منك فقط فقط عشان تدخل البلايليست دي وتجو فيها وتمسطر كل حاجة فيها مطلوب منك تكون فقط عارف اساسيات لغة البايسول يعني انت تكون عندك اساسيات البايزيكس بس مش بقولك امبورت اللايبيراريز لا لا مطلوب منك فقط معرفة اساسية بس تعرف يعني جوبت النوتبوك تعرف تكتب سينتكس بايسول بسيط جدا جدا تعرف يعني فرنوب تعرف يعني ايه ايف كونديشن تعرف يعني ايه فيريابولز تعرف بيزيكس بسيط يعني او او بيه مطلوب منك اكتر من كده وان شاء الله رب العالمين هاخدك مرورا بستيبس طويلة جدا طبعا هي بلايليست طويلة شوية بس انا اوعيك باعوني الله وفضلي الله وتوفيق ربنا سبحانه وتعالى طبعا لو انت خلصت البلايليست دي اتأوعدك انت هتمسطر الماشي ليرنينج بشكل كبير جدا انا برضو كلامي لان طبعا الاي اي فيديو طبعا كل يوم فيه جديد فالمتطلبات يوميا بتزيد من الاي اي انجنيير فالمتطلبات بتزيد كلامي تلوقتي لبلايليست دي هي تقدر تخليك تنين تنين في شهر 6 2023 وان شاء الله رب العالمين البلايليست دي الثانية في باقي المجالات الثانية في الاي اي هتنزل تبعا بشيء من التفصيل بقى هتكلم البلايليست دي هي فيها ايه كرود ماب عشان تبقى عارف اول حاجة لازم تمشي بالترتيب احنا البلايليست بدأ بانترودكشن الارتفيشي انتليجنس فيه اربعة بارتس في المجالات وهتلاقي هنا فيه تلات فيديوهات لينيال الجيبرا وهتعرف ايه فوائد الحاجات اللي هتنشروها حاليا ان شاء الله لازم تمشي بالترتيب عشان تبقى متسقطش حاجة لينيال الجيبرا هتلاقيها مشروحة فيه تلات سري بارتس جابر الخط يعني وهنتكلم بعد كده حاجة اسمها data exploration وهنخش على probability و statistics مشروحة فيه اول خمس اجزاء او اربع اجزاء probability و statistics مهمة جدا لل data science ومهمة جدا للماشيال learning بعد كده تلاقينا مندخل شوية في الكود في البايسون ومننباي دي library اسمه library بعد كده هنلاقي فيه library اسمها البندس وفيه library اسمها matbooletlib و library تاني اسمها seaborn لحد اخر seaborn او رقم الفيديو 19 ده احنا كده بننهي فيز اسمها ال EDA او فيز اسمها data analysis ال data analysis ده مدخل اساسي للماشيال learning بعد كده هنتكلم بعد كده عن شوية رياضة ونتكلم حاجة بعد كده اسمها numerical optimization هتعرف دي فائدتها ايه دي كلها رياضة شوية النملكة الoptimization فيه كذا جزء في حوالي اربع اجزاء وعند كده نقش في الماشيال learning ونبدأ بحاجة اسمها regression هتلاقينا بتكلم عن linear regression وحاجة اسمها program regression وحاجة اسمها overfitting وهتلاقينا يواخد project هنا from scratch لحد ما تنهي الموديل ويطلع product يعني وبتكلم عن حاجة اسمها regularization وبشرح منصة اسمها kaggle وبدخل بعد كده على topic تاني اسمه classification وبشرح حاجة اسمها المالتي كلاس وبدخل في algorithms الماشيال learning عبارة عن algorithms mainly يعني بتبقى based على algorithms دخلنا في algorithm واحد منه اسمه knn اسمه كده يعني هتفهم طبعا قدام انا بس بدي اقول map بعد كده حاجة اسمها naive Bayes حاجة اسمها logistic regression حاجة اسمها support vector machine ويه حاجة اسمها decision tree واخيرا بما يسمى بالinsimple learning وبعد كده اخيرا برضو فيه حاجة اسمها hyperparameters tuning هتفهم الكل لحد الفيديو 43 ده احنا بنسميه supervised learning يعني تعلم بشروف هتفهم بعد كده ان الماشيال learning بنقسم لكذا تقسيمة واحد التقسيمات بتاعته والاهم اسمه supervised machine learning لحد الفيديو رقم 43 بعد كده انا بدخل في project كامل a to z from scratch لحد deployment هتعرف يعني كلمة deployment ديه ويعني ايه تنزل البروجكت بتاعك والموديل بتاعك ده تنزله production هتفهم الكلام ده هتلاقي من اول الفيديو 44 full project باخدك من الاشي من الenvironment preparing وبعد كده problem definition وبعد كده بخش في الEA وfuture engineering ونتا تبري بروسيسنج وبلدن الموديلز باختلاف التيوننج بتاعه واختلاف الhyperparameter tuning هتفهم كلام ده برضو وانت شغال في البلاي ليست واخيرا بخش على الdeployment الdeployment هنا انا شارح هنا framework اسمه flask flask دي framework في البايسول معروفة جدا ومشهورة انا مستخدمها وعمل لا تطويع مش انا مش بشرح flask انا بشرح flask عشان اعمل deployment عشان اعمل deployment deployment هتعرف يعني deployment قدام flask بتبقى فيها تحول شوية يعني الي ايام ديات فيه تحول من flask لframework اتاني اسمه fast API هي fast API احسن واسرع وهي اللي عليها الشغل الاكتر فعملت فيديو تاني في fast API في الفيديو رقم 54 واخيرا هتعرف ان ده بعد كده بتعامل بعد كده لبروجك ده او للموديل ده hosting يعني بوديعه على كلوي دماع عشان يبقى accessible للناس كلها فده نهاية الend to end machine learning project عند الفيديو 55 بعد كده زي ما قولت احنا كلمنا في الsupervised machine learning و بعد كده كلمنا في project from A to Z from scratch من الصفر بعد كده هنشرح الunsupervised machine learning او التعلم بدون اشروف من الفيديو 56 لحد الاخر ده التعلم بدون اشروف بعد كده بتكلم على introduction to unsupervised بتكلم على حاجة اسمها dimensionality reduction بتفهم الكلام ده وبشرح الالغولزمات الالغولزم اسمه BCA وشرح الالغولزم اسمه SVD وحاجة تانية اسمها random projection وnon linearity machine learning sorry انا اسف non linearity learning وبعد كده بتكلم من تطبيقات الunsupervised في project مشهور حاجة اسمها anomaly detection بتعرف كلام ده يعني ايه وبعد كده بتكلم عن topic مشهور جدا في الunsupervised اسمه clustering ومن اشهر الالغولزمات بتاع الclustering حاجة الالغولزم اسمه k-means انا مش بشرح ال k-means لمجرد الالغولزم بس باخدوه بالتفصيل باخدو ال k-means في theories و الpractice و بشرحو لapplications تانية زي الimage segmentation و reprocessing و steamer supervised وبعد كده بخش على الالغولزم تاني برضو في الclustering اسمه db scan بشرحو بالتفصيل وبعد كده الالغولزم تاني اسمه hierarchical clustering وبنهي بتلاتة فيديوهات لالغولزم اسمه Gaussian Microchial Model او ال GMM وده الالغولزم معقد شوي فيه رياضة كتير وفيه شغل كتير انا شرحو بالتفصيل الممل كل الفيديوهات ديات كل فيديو انا شرحتو التاني بشرح الالغولزم برياضة in details حرفيا باخدك من الاشي in details بشرح الالغولزم بالتفصيل وكيف بدأ الخلق فيه و لو يسع الوقت اصلا نقدر نعمل implementation له او نقدر نبنيه سويا لكن انا بشرحو رياضة مش بس سكوت بشرحو رياضة بقولك اللي ده جاملين وكل قانون جاملين وازاي تحسن فيه واتطور فيه اسأل الله عزا جل ان يقعل هذا العمل خالصا لوجه الكريم الفيديوهات دي اصلا كتا علي ودمي انا انشاء الله اني هتتجه ان انا انزل الفيديوهات كلها على اليوتيوب بعد كده اللهم اغفر لي ولي والدي وربنا يقعل العمل ده خالصا لوجه الكريم ونسأل الله القبول يعني سلام عليكم\n"
     ]
    }
   ],
   "source": [
    "## Transcrip using whipser\n",
    "audio_path = os.path.join(os.getcwd(), 'youtube_audio_vids', audio_new)\n",
    "with open(audio_path, 'rb') as file:\n",
    "    transcript = openai.Audio.transcribe('whisper-1', file)\n",
    "    print(transcript['text'])"
   ]
  },
  {
   "cell_type": "code",
   "execution_count": null,
   "metadata": {},
   "outputs": [],
   "source": []
  }
 ],
 "metadata": {
  "kernelspec": {
   "display_name": "openai",
   "language": "python",
   "name": "python3"
  },
  "language_info": {
   "codemirror_mode": {
    "name": "ipython",
    "version": 3
   },
   "file_extension": ".py",
   "mimetype": "text/x-python",
   "name": "python",
   "nbconvert_exporter": "python",
   "pygments_lexer": "ipython3",
   "version": "3.10.9"
  },
  "orig_nbformat": 4
 },
 "nbformat": 4,
 "nbformat_minor": 2
}
