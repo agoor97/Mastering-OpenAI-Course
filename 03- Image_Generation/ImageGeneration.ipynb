{
 "cells": [
  {
   "cell_type": "code",
   "execution_count": 2,
   "metadata": {},
   "outputs": [],
   "source": [
    "## Import Libraries, and read the key-token\n",
    "import openai\n",
    "import os\n",
    "from dotenv import load_dotenv\n",
    "import requests\n",
    "import tempfile\n",
    "\n",
    "## Load the Key token\n",
    "_ = load_dotenv()\n",
    "key_token = os.getenv('OpenAI_KEY_TOKEN')\n",
    "\n",
    "## Assign that key_token to api_key of OpenAI\n",
    "openai.api_key = key_token"
   ]
  },
  {
   "cell_type": "code",
   "execution_count": 4,
   "metadata": {},
   "outputs": [],
   "source": [
    "## Create a folder\n",
    "os.makedirs('gen_images', exist_ok=True)"
   ]
  },
  {
   "cell_type": "code",
   "execution_count": 5,
   "metadata": {},
   "outputs": [
    {
     "name": "stdout",
     "output_type": "stream",
     "text": [
      "\"A garden filled with flowers and blossoms where a happy man can be seen smelling the flowers.\"\n",
      "********************************************************************************\n"
     ]
    }
   ],
   "source": [
    "\n",
    "\n",
    "## In arabic, we need to translate and prepare a good prompt\n",
    "user_prompt = 'حديقة مملوءة بالزهور والورود ويوجد بها رجل سعيد يشم الزهور'\n",
    "\n",
    "## system_prompt for gpt-3.5-turbo\n",
    "system_prompt = ''''You are an AI assistant, Your task is to regenerate the following text to be a prompt for an image generation model.\n",
    "                        Instructions:\n",
    "                            1. Analyze the text and refine it to ensure clarity, specificity, and accuracy.\n",
    "                            2. Create a prompt in ENGLISH Langauge that best represent the text meaning.\n",
    "                            3. If the text is not in English, TRANSLATE it into English.\n",
    "                            4. Retrun the Result in a list containing only the final prompt in ENGLISH. \n",
    "                    '''\n",
    "## messages\n",
    "messages = [ \n",
    "    {'role': 'system', 'content': system_prompt}, \n",
    "    {'role': 'user', 'content': user_prompt}\n",
    "        ]\n",
    "## Using ChatGPT to refine the user prompt\n",
    "response = openai.ChatCompletion.create(\n",
    "              model='gpt-3.5-turbo',           \n",
    "              messages=messages,\n",
    "              temperature=0.9,  \n",
    "              max_tokens=1000,  \n",
    "                )\n",
    "\n",
    "refined_prompt = response['choices'][0]['message']['content']  ## That what will Dall-E work on.\n",
    "print(refined_prompt)\n",
    "print('****'*20)\n",
    "\n",
    "## Using Dall-E\n",
    "response = openai.Image.create(\n",
    "                prompt=refined_prompt,   ## The refined_prompt aftre translating and preparing.\n",
    "                n=1,    \n",
    "                size='1024x1024'    \n",
    "            )\n",
    "imag_url = response['data'][0]['url']  ## Getting URL only\n",
    "\n",
    "## Download to disk with temporary filename\n",
    "request_res = requests.get(imag_url)\n",
    "\n",
    "## Check response and save the image to (gen_images) folder\n",
    "if request_res.status_code == 200:\n",
    "\n",
    "    img_temp_name = os.path.basename(tempfile.NamedTemporaryFile(suffix=\".png\").name)\n",
    "    ## Set the path where you want to save the image\n",
    "    image_path_local = os.path.join('gen_images', img_temp_name)\n",
    "    \n",
    "    ## Write the image to the save path\n",
    "    with open(image_path_local, \"wb\") as file:\n",
    "        file.write(request_res.content)\n",
    "else:\n",
    "    print('There is an error in getting the image link.')"
   ]
  },
  {
   "cell_type": "code",
   "execution_count": null,
   "metadata": {},
   "outputs": [],
   "source": []
  }
 ],
 "metadata": {
  "kernelspec": {
   "display_name": "base",
   "language": "python",
   "name": "python3"
  },
  "language_info": {
   "codemirror_mode": {
    "name": "ipython",
    "version": 3
   },
   "file_extension": ".py",
   "mimetype": "text/x-python",
   "name": "python",
   "nbconvert_exporter": "python",
   "pygments_lexer": "ipython3",
   "version": "3.10.9"
  },
  "orig_nbformat": 4
 },
 "nbformat": 4,
 "nbformat_minor": 2
}
