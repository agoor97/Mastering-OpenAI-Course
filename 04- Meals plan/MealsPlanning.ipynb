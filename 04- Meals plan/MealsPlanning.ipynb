{
 "cells": [
  {
   "cell_type": "code",
   "execution_count": 24,
   "metadata": {},
   "outputs": [],
   "source": [
    "## Import Libraries, and read the key-token\n",
    "import openai\n",
    "import os\n",
    "from dotenv import load_dotenv\n",
    "import tempfile\n",
    "import requests\n",
    "import re\n",
    "\n",
    "## Load the Key token\n",
    "_ = load_dotenv()\n",
    "key_token = os.getenv('OpenAI_KEY_TOKEN')\n",
    "\n",
    "## Assign that key_token to api_key of OpenAI\n",
    "openai.api_key = key_token"
   ]
  },
  {
   "cell_type": "code",
   "execution_count": 11,
   "metadata": {},
   "outputs": [
    {
     "name": "stdout",
     "output_type": "stream",
     "text": [
      "Here is a healthy daily meal plan based on the given ingredients:\n",
      "\n",
      "Breakfast: Baked Eggs with Spinach and Tomatoes (400 kcal)\n",
      "- Preheat the oven to 375°F (190°C).\n",
      "- In a skillet, heat 1 tablespoon of oil over medium heat.\n",
      "- Add 1 cup of spinach and 1 diced tomato. Cook until spinach is wilted and tomato is softened.\n",
      "- Transfer the spinach and tomato to a small baking dish.\n",
      "- Crack 2 eggs into the dish and bake for 12-15 minutes or until the eggs are set.\n",
      "- Serve with a slice of whole-grain bread.\n",
      "\n",
      "Lunch: Grilled Chicken Salad (500 kcal)\n",
      "- Preheat a grill or grill pan to medium-high heat.\n",
      "- Season 4 ounces of chicken breast with salt and pepper.\n",
      "- Grill the chicken for 6-8 minutes per side or until cooked through.\n",
      "- In a large bowl, mix 2 cups of mixed greens, 1/2 cup of cherry tomatoes, and 1/4 cup of sliced cucumbers.\n",
      "- Whisk together 1 tablespoon of oil and 1 tablespoon of vinegar to make a dressing.\n",
      "- Slice the grilled chicken and add it to the salad. Drizzle with the dressing.\n",
      "\n",
      "Dinner: Baked Fish with Roasted Vegetables (800 kcal)\n",
      "- Preheat the oven to 400°F (200°C).\n",
      "- Toss 1 cup of chopped vegetables (such as bell peppers, zucchini, and onion) with 1 tablespoon of oil and a pinch of salt and pepper.\n",
      "- Arrange the vegetables on a baking sheet and bake for 15-20 minutes or until tender and lightly browned.\n",
      "- Season a 6-ounce fish fillet with salt and pepper.\n",
      "- Place the fish on the baking sheet with the vegetables and bake for an additional 10-12 minutes or until the fish is cooked through.\n",
      "- Serve with a slice of whole-grain bread.\n",
      "\n",
      "Titles:\n",
      "1. Baked Eggs with Spinach and Tomatoes\n",
      "2. Grilled Chicken Salad\n",
      "3. Baked Fish with Roasted Vegetables\n"
     ]
    }
   ],
   "source": [
    "## paramas\n",
    "ingredients = ''.join(input('Enter your Ingredients Here with space between them. !'))\n",
    "kcal = 2000\n",
    "\n",
    "## prompts\n",
    "system_prompt = 'You are a smart and a telented cook'\n",
    "user_prompt = f'''Create a healthy daily meal plan for breakfast, lunch and dinner based on\n",
    "                    the following ingredients {ingredients} with only 3 meals.\n",
    "                    Explain each recipe.\n",
    "                    The total daily intake of kcal should be below {kcal}.\n",
    "                    Assign a suggestive and concise title to each meal.\n",
    "                    Your answer should end with 'Titles: ' and the title of each recipe.\n",
    "                    Return the 3 Titles at the End of the response. '''\n",
    "## messages\n",
    "messages = [ \n",
    "    {'role': 'system', 'content': system_prompt}, \n",
    "    {'role': 'user', 'content': user_prompt}\n",
    "        ]\n",
    "\n",
    "## Using ChatGPT for ChatCompletion\n",
    "response = openai.ChatCompletion.create(\n",
    "            model='gpt-3.5-turbo',           \n",
    "            messages=messages,\n",
    "            temperature=0.7,  \n",
    "            max_tokens=1000,  \n",
    "                )\n",
    "\n",
    "response = response['choices'][0]['message']['content']  \n",
    "\n",
    "print(response)"
   ]
  },
  {
   "cell_type": "code",
   "execution_count": 25,
   "metadata": {},
   "outputs": [
    {
     "data": {
      "text/plain": [
       "['Baked Eggs with Spinach and Tomatoes',\n",
       " 'Grilled Chicken Salad',\n",
       " 'Baked Fish with Roasted Vegetables']"
      ]
     },
     "execution_count": 25,
     "metadata": {},
     "output_type": "execute_result"
    }
   ],
   "source": [
    "## Generate Image for these meals using Dall-E\n",
    "meals_titles = response.splitlines()[-3:]\n",
    "\n",
    "## Remove Numbers if exists\n",
    "meals_titles = [re.sub(r'\\d+.', '', title).strip() for title in meals_titles]\n",
    "meals_titles"
   ]
  },
  {
   "cell_type": "code",
   "execution_count": 26,
   "metadata": {},
   "outputs": [],
   "source": [
    "## Create the folder for saving images locally\n",
    "os.makedirs('gen_images', exist_ok=True)"
   ]
  },
  {
   "cell_type": "code",
   "execution_count": 27,
   "metadata": {},
   "outputs": [],
   "source": [
    "## Usign Dall-E -> for Image 1 (BreakFast)\n",
    "response = openai.Image.create(\n",
    "                prompt=meals_titles[0],   ## The BreakFast the fisrt image\n",
    "                n=1,    \n",
    "                size='1024x1024'    \n",
    "            )\n",
    "\n",
    "imag_url = response['data'][0]['url']  ## Getting URL only\n",
    "\n",
    "## Download to disk with temporary filename\n",
    "request_res = requests.get(imag_url)\n",
    "\n",
    "## Check response and save the image to (gen_images) folder\n",
    "if request_res.status_code == 200:\n",
    "\n",
    "    img_temp_name = os.path.basename(tempfile.NamedTemporaryFile(suffix=\".png\").name)\n",
    "    ## Set the path where you want to save the image\n",
    "    image_path_local = os.path.join('gen_images', img_temp_name)\n",
    "    \n",
    "    ## Write the image to the save path\n",
    "    with open(image_path_local, \"wb\") as file:\n",
    "        file.write(request_res.content)\n",
    "        \n",
    "else:\n",
    "    print('There is an error in getting the image link.')"
   ]
  },
  {
   "cell_type": "code",
   "execution_count": null,
   "metadata": {},
   "outputs": [],
   "source": []
  }
 ],
 "metadata": {
  "kernelspec": {
   "display_name": "openai",
   "language": "python",
   "name": "python3"
  },
  "language_info": {
   "codemirror_mode": {
    "name": "ipython",
    "version": 3
   },
   "file_extension": ".py",
   "mimetype": "text/x-python",
   "name": "python",
   "nbconvert_exporter": "python",
   "pygments_lexer": "ipython3",
   "version": "3.10.9"
  },
  "orig_nbformat": 4
 },
 "nbformat": 4,
 "nbformat_minor": 2
}
