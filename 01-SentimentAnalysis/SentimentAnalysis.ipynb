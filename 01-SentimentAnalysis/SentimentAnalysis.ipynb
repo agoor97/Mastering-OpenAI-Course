{
 "cells": [
  {
   "cell_type": "code",
   "execution_count": 1,
   "metadata": {},
   "outputs": [],
   "source": [
    "## Import Libraries, and read the key-token\n",
    "import openai\n",
    "import os\n",
    "from dotenv import load_dotenv\n",
    "import requests\n",
    "import tempfile\n",
    "\n",
    "## Load the Key token\n",
    "_ = load_dotenv()\n",
    "key_token = os.getenv('OpenAI_KEY_TOKEN')\n",
    "\n",
    "## Assign that key_token to api_key of OpenAI\n",
    "openai.api_key = key_token"
   ]
  },
  {
   "cell_type": "code",
   "execution_count": 2,
   "metadata": {},
   "outputs": [
    {
     "name": "stdout",
     "output_type": "stream",
     "text": [
      "NEGATIVE\n"
     ]
    }
   ],
   "source": [
    "## Define System prompt \n",
    "system_prompt = ''' Youa are an AI assistant, You are an emotionally intelligent assistant\n",
    "            Classify the user's text in ONLY ONE OF THE FOLLOWING EMOTIONS [POSITIVE, NEGATIVE]\n",
    "            After that respond with the emotion only.'''\n",
    "\n",
    "user_prompt = 'I am very sad, there is a lot of troubles.'\n",
    "\n",
    "messages = [ \n",
    "    {'role': 'system', 'content': system_prompt}, \n",
    "    {'role': 'user', 'content': user_prompt}\n",
    "        ]\n",
    "response = openai.ChatCompletion.create(\n",
    "              model='gpt-3.5-turbo',           \n",
    "              messages=messages,\n",
    "              temperature=0,  ## I need the model to be deterministic  \n",
    "              max_tokens=100,   \n",
    "                )\n",
    "print(response['choices'][0]['message']['content'])"
   ]
  },
  {
   "cell_type": "code",
   "execution_count": 5,
   "metadata": {},
   "outputs": [],
   "source": [
    "## Try your function\n",
    "from utils import sent_analysis"
   ]
  },
  {
   "cell_type": "code",
   "execution_count": 6,
   "metadata": {},
   "outputs": [
    {
     "data": {
      "text/plain": [
       "'POSITIVE'"
      ]
     },
     "execution_count": 6,
     "metadata": {},
     "output_type": "execute_result"
    }
   ],
   "source": [
    "sent_analysis(user_prompt='I am happy today because my results are good', emotions=['POSITIVE', 'NEUTRAL', 'NEGATIVE'])"
   ]
  },
  {
   "cell_type": "code",
   "execution_count": null,
   "metadata": {},
   "outputs": [],
   "source": []
  }
 ],
 "metadata": {
  "kernelspec": {
   "display_name": "openai",
   "language": "python",
   "name": "python3"
  },
  "language_info": {
   "codemirror_mode": {
    "name": "ipython",
    "version": 3
   },
   "file_extension": ".py",
   "mimetype": "text/x-python",
   "name": "python",
   "nbconvert_exporter": "python",
   "pygments_lexer": "ipython3",
   "version": "3.10.9"
  },
  "orig_nbformat": 4
 },
 "nbformat": 4,
 "nbformat_minor": 2
}
